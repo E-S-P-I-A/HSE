{
  "nbformat": 4,
  "nbformat_minor": 0,
  "metadata": {
    "colab": {
      "provenance": [],
      "authorship_tag": "ABX9TyOEBICupFbr+xl1QUfK/n0s",
      "include_colab_link": true
    },
    "kernelspec": {
      "name": "python3",
      "display_name": "Python 3"
    },
    "language_info": {
      "name": "python"
    }
  },
  "cells": [
    {
      "cell_type": "markdown",
      "metadata": {
        "id": "view-in-github",
        "colab_type": "text"
      },
      "source": [
        "<a href=\"https://colab.research.google.com/github/E-S-P-I-A/HSE/blob/main/HW_6.ipynb\" target=\"_parent\"><img src=\"https://colab.research.google.com/assets/colab-badge.svg\" alt=\"Open In Colab\"/></a>"
      ]
    },
    {
      "cell_type": "code",
      "source": [
        "class Account:\n",
        "    def __init__(self, name, initial_balance=0):\n",
        "        \"\"\"\n",
        "        Конструктор класса Account.\n",
        "\n",
        "        :param name: Имя владельца счета\n",
        "        :param initial_balance: Начальный баланс при создании счета\n",
        "        \"\"\"\n",
        "        self.name = name\n",
        "        self.balance = initial_balance\n",
        "        # История операций будет храниться в виде списка кортежей (операция, сумма)\n",
        "        self.history = []\n",
        "\n",
        "    def deposit(self, amount):\n",
        "        \"\"\"\n",
        "        Метод для внесения средств на счет.\n",
        "\n",
        "        :param amount: Сумма для зачисления\n",
        "        \"\"\"\n",
        "        if amount <= 0:\n",
        "            raise ValueError(\"Сумма должна быть положительной\")\n",
        "\n",
        "        self.balance += amount\n",
        "        self.history.append(('deposit', amount))\n",
        "\n",
        "    def withdraw(self, amount):\n",
        "        \"\"\"\n",
        "        Метод для снятия средств со счета.\n",
        "\n",
        "        :param amount: Сумма для снятия\n",
        "        \"\"\"\n",
        "        if amount > self.balance:\n",
        "            raise ValueError(\"Недостаточно средств на счете\")\n",
        "\n",
        "        if amount <= 0:\n",
        "            raise ValueError(\"Сумма должна быть положительной\")\n",
        "\n",
        "        self.balance -= amount\n",
        "        self.history.append(('withdraw', amount))\n",
        "\n",
        "    def get_history(self):\n",
        "        \"\"\"\n",
        "        Возвращает историю операций по счету.\n",
        "        \"\"\"\n",
        "        return self.history\n",
        "\n",
        "# Пример использования класса\n",
        "if __name__ == \"__main__\":\n",
        "    account = Account('Иван Иванов', 1000)\n",
        "\n",
        "    print(f'Начальный баланс: {account.balance}')\n",
        "\n",
        "    account.deposit(500)\n",
        "    print(f'Баланс после депозита: {account.balance}')\n",
        "\n",
        "    account.withdraw(200)\n",
        "    print(f'Баланс после снятия: {account.balance}')\n",
        "\n",
        "    history = account.get_history()\n",
        "    for operation, amount in history:\n",
        "        print(f'{operation}: {amount}')"
      ],
      "metadata": {
        "colab": {
          "base_uri": "https://localhost:8080/"
        },
        "id": "RPsPRV9aZjzF",
        "outputId": "a354da92-951b-42a7-cf56-8ebf293597b4"
      },
      "execution_count": 3,
      "outputs": [
        {
          "output_type": "stream",
          "name": "stdout",
          "text": [
            "Начальный баланс: 1000\n",
            "Баланс после депозита: 1500\n",
            "Баланс после снятия: 1300\n",
            "deposit: 500\n",
            "withdraw: 200\n"
          ]
        }
      ]
    }
  ]
}