{
 "cells": [
  {
   "cell_type": "code",
   "execution_count": 1,
   "metadata": {},
   "outputs": [
    {
     "name": "stdout",
     "output_type": "stream",
     "text": [
      "es\n"
     ]
    }
   ],
   "source": [
    "# Задаем слово 'test' or 'testing'\n",
    "word = 'test'\n",
    "\n",
    "# Определяем длину слова\n",
    "length = len(word)\n",
    "\n",
    "# Если длина слова нечетная, выводим среднюю букву\n",
    "if length % 2 != 0:\n",
    "    middle_letter = word[length // 2]\n",
    "    print(middle_letter)\n",
    "\n",
    "# Если длина слова четная, выводим две средних буквы\n",
    "else:\n",
    "    middle_letters = word[length // 2 - 1:length // 2 + 1]\n",
    "    print(''.join(middle_letters))"
   ]
  },
  {
   "cell_type": "code",
   "execution_count": 2,
   "metadata": {},
   "outputs": [
    {
     "name": "stdout",
     "output_type": "stream",
     "text": [
      "Внимание, кто-то может остаться без пары!\n"
     ]
    }
   ],
   "source": [
    "# Задаем данные задания\n",
    "boys = ['Peter', 'Alex', 'John', 'Arthur', 'Richard', 'Michael']\n",
    "girls = ['Kate', 'Liza', 'Kira', 'Emma', 'Trisha']\n",
    "\n",
    "# Сортируем списки по алфавиту\n",
    "boys.sort()\n",
    "girls.sort()\n",
    "\n",
    "# Проверяем, есть ли пары для всех\n",
    "if len(boys) == len(girls):\n",
    "    # Создаем пары\n",
    "    pairs = list(zip(boys, girls))\n",
    "    \n",
    "    # Выводим результат\n",
    "    print(\"Результат:\")\n",
    "    for pair in pairs:\n",
    "        print(f\"{pair[0]} и {pair[1]}\")\n",
    "else:\n",
    "    print(\"Внимание, кто-то может остаться без пары!\")\n"
   ]
  }
 ],
 "metadata": {
  "kernelspec": {
   "display_name": "Python 3",
   "language": "python",
   "name": "python3"
  },
  "language_info": {
   "codemirror_mode": {
    "name": "ipython",
    "version": 3
   },
   "file_extension": ".py",
   "mimetype": "text/x-python",
   "name": "python",
   "nbconvert_exporter": "python",
   "pygments_lexer": "ipython3",
   "version": "3.12.1"
  }
 },
 "nbformat": 4,
 "nbformat_minor": 2
}
