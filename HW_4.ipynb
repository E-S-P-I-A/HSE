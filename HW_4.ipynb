{
  "nbformat": 4,
  "nbformat_minor": 0,
  "metadata": {
    "colab": {
      "provenance": [],
      "include_colab_link": true
    },
    "kernelspec": {
      "name": "python3",
      "display_name": "Python 3"
    },
    "language_info": {
      "name": "python"
    }
  },
  "cells": [
    {
      "cell_type": "markdown",
      "metadata": {
        "id": "view-in-github",
        "colab_type": "text"
      },
      "source": [
        "<a href=\"https://colab.research.google.com/github/E-S-P-I-A/HSE/blob/main/HW_4.ipynb\" target=\"_parent\"><img src=\"https://colab.research.google.com/assets/colab-badge.svg\" alt=\"Open In Colab\"/></a>"
      ]
    },
    {
      "cell_type": "code",
      "execution_count": 49,
      "metadata": {
        "colab": {
          "base_uri": "https://localhost:8080/"
        },
        "id": "LdFtJWLMkBrz",
        "outputId": "cccc6a3d-bc15-4045-8b4c-3ad69da1c806"
      },
      "outputs": [
        {
          "output_type": "stream",
          "name": "stdout",
          "text": [
            "user_id 'category'\n",
            "1840e0b9d4 'Продукты'\n",
            "4e4f90fcfb 'Электроника'\n"
          ]
        }
      ],
      "source": [
        "import json  # Импортируем модуль для работы с JSON\n",
        "\n",
        "i = 0  # Счётчик для ограничения количества обработанных строк\n",
        "\n",
        "with open('purchase_log.txt') as f:  # Открываем файл в режиме чтения\n",
        "    for line in f:\n",
        "        line = line.strip()  # Убираем лишние пробельные символы с начала и конца строки\n",
        "        dict_ = json.loads(line)  # Декодируем строку в словарь с помощью json.loads\n",
        "        result = f\"{dict_['user_id']} '{dict_['category']}'\"  # Формируем строку в нужном формате\n",
        "        print(result)  # Выводим результат\n",
        "\n",
        "        i += 1  # Увеличиваем счётчик\n",
        "        if i > 2:  # Если обработано больше 2 строк, прерываем цикл\n",
        "            break"
      ]
    },
    {
      "cell_type": "code",
      "source": [],
      "metadata": {
        "id": "wNtqwEwGQhn7"
      },
      "execution_count": 45,
      "outputs": []
    },
    {
      "cell_type": "markdown",
      "source": [],
      "metadata": {
        "id": "_Q_79NuwmEwT"
      }
    }
  ]
}