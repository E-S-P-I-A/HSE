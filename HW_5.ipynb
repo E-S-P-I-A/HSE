{
  "nbformat": 4,
  "nbformat_minor": 0,
  "metadata": {
    "colab": {
      "provenance": [],
      "authorship_tag": "ABX9TyOdEwaidifKASDw7oYrPy4/",
      "include_colab_link": true
    },
    "kernelspec": {
      "name": "python3",
      "display_name": "Python 3"
    },
    "language_info": {
      "name": "python"
    }
  },
  "cells": [
    {
      "cell_type": "markdown",
      "metadata": {
        "id": "view-in-github",
        "colab_type": "text"
      },
      "source": [
        "<a href=\"https://colab.research.google.com/github/E-S-P-I-A/HSE/blob/main/HW_5.ipynb\" target=\"_parent\"><img src=\"https://colab.research.google.com/assets/colab-badge.svg\" alt=\"Open In Colab\"/></a>"
      ]
    },
    {
      "cell_type": "code",
      "execution_count": 1,
      "metadata": {
        "colab": {
          "base_uri": "https://localhost:8080/"
        },
        "id": "v-fH3gucsYEO",
        "outputId": "c9639d7b-b246-4a2d-84d6-4389c817484b"
      },
      "outputs": [
        {
          "output_type": "stream",
          "name": "stdout",
          "text": [
            "2002-10-02 00:00:00\n",
            "2013-10-11 00:00:00\n",
            "1977-08-18 00:00:00\n"
          ]
        }
      ],
      "source": [
        "import datetime\n",
        "\n",
        "# Форматирование дат для различных газет\n",
        "the_moscow_times_date = \"Wednesday, October 2, 2002\"\n",
        "the_guardian_date = \"Friday, 11.10.13\"\n",
        "daily_news_date = \"Thursday, 18 August 1977\"\n",
        "\n",
        "# Преобразование строк в объекты datetime\n",
        "moscow_times_datetime = datetime.datetime.strptime(the_moscow_times_date, \"%A, %B %d, %Y\")\n",
        "the_guardian_datetime = datetime.datetime.strptime(the_guardian_date, \"%A, %d.%m.%y\")\n",
        "daily_news_datetime = datetime.datetime.strptime(daily_news_date, \"%A, %d %B %Y\")\n",
        "\n",
        "# Вывод результатов\n",
        "print(moscow_times_datetime)\n",
        "print(the_guardian_datetime)\n",
        "print(daily_news_datetime)"
      ]
    },
    {
      "cell_type": "code",
      "source": [
        "import datetime\n",
        "\n",
        "def date_range(start_date, end_date):\n",
        "    # Проверка на пустые строки и преобразование строк в даты\n",
        "    if not (start_date and end_date):\n",
        "        return []\n",
        "    try:\n",
        "        start_datetime = datetime.datetime.strptime(start_date, '%Y-%m-%d')\n",
        "        end_datetime = datetime.datetime.strptime(end_date, '%Y-%m-%d')\n",
        "    except ValueError:\n",
        "        return []\n",
        "\n",
        "    # Проверка, что start_date не больше end_date\n",
        "    if start_datetime > end_datetime:\n",
        "        return []\n",
        "\n",
        "    # Создание списка дат\n",
        "    dates = []\n",
        "    current_date = start_datetime\n",
        "    while current_date <= end_datetime:\n",
        "        dates.append(current_date.strftime('%Y-%m-%d'))\n",
        "        current_date += datetime.timedelta(days=1)\n",
        "\n",
        "    return dates\n",
        "\n",
        "# Примеры использования функции\n",
        "print(date_range('2022-01-01', '2022-01-03'))\n",
        "print(date_range('2022-02-28', '2022-03-02'))\n",
        "print(date_range('2022-04-04', '2022-04-06'))"
      ],
      "metadata": {
        "colab": {
          "base_uri": "https://localhost:8080/"
        },
        "id": "a5Vt5jIlsiUa",
        "outputId": "9eb54dc3-b003-4aa2-b105-11265611356c"
      },
      "execution_count": 2,
      "outputs": [
        {
          "output_type": "stream",
          "name": "stdout",
          "text": [
            "['2022-01-01', '2022-01-02', '2022-01-03']\n",
            "['2022-02-28', '2022-03-01', '2022-03-02']\n",
            "['2022-04-04', '2022-04-05', '2022-04-06']\n"
          ]
        }
      ]
    }
  ]
}